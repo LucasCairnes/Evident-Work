{
 "cells": [
  {
   "cell_type": "code",
   "execution_count": 14,
   "id": "9068f362-c832-44fd-bf36-7faee525d57c",
   "metadata": {},
   "outputs": [],
   "source": [
    "from google.cloud import bigquery\n",
    "from datetime import datetime, timezone"
   ]
  },
  {
   "cell_type": "code",
   "execution_count": 16,
   "id": "8bb59409-57f7-4c67-89a3-0f541b2e04d4",
   "metadata": {},
   "outputs": [
    {
     "name": "stdout",
     "output_type": "stream",
     "text": [
      "details was created 70 days ago and last modified 0 days ago.\n",
      "urls was created 73 days ago and last modified 0 days ago.\n",
      "urls_all was created 73 days ago and last modified 3 days ago.\n"
     ]
    }
   ],
   "source": [
    "project = \"evident-data-dev\"\n",
    "chosen_set = \"raw_google_patents\" # input the set to check here\n",
    "\n",
    "bq_client = bigquery.Client(project=project)\n",
    "datasets = bq_client.list_datasets()\n",
    "\n",
    "current_time = datetime.now(timezone.utc)\n",
    "\n",
    "tables = bq_client.list_tables(chosen_set)\n",
    "    \n",
    "for table_item in tables:\n",
    "    table = bq_client.get_table(table_item.reference)\n",
    "    days_since_created = (current_time - table.created).days\n",
    "    \n",
    "    if days_since_created >= 30:\n",
    "        days_since_modified = (current_time - table.modified).days\n",
    "        print(f\"{table.table_id} was created {days_since_created} days ago and last modified {days_since_modified} days ago.\")"
   ]
  }
 ],
 "metadata": {
  "kernelspec": {
   "display_name": "Python 3 (ipykernel)",
   "language": "python",
   "name": "python3"
  },
  "language_info": {
   "codemirror_mode": {
    "name": "ipython",
    "version": 3
   },
   "file_extension": ".py",
   "mimetype": "text/x-python",
   "name": "python",
   "nbconvert_exporter": "python",
   "pygments_lexer": "ipython3",
   "version": "3.13.5"
  }
 },
 "nbformat": 4,
 "nbformat_minor": 5
}
