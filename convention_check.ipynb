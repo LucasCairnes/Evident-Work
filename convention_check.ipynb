{
 "cells": [
  {
   "cell_type": "code",
   "execution_count": 1,
   "id": "2e969846-5fb3-4735-b583-4f8efcfe7a7e",
   "metadata": {},
   "outputs": [],
   "source": [
    "import pandas as pd\n",
    "from google.cloud import bigquery, storage"
   ]
  },
  {
   "cell_type": "code",
   "execution_count": 2,
   "id": "3d874acb-a290-4ac4-8441-68c4c5683f6e",
   "metadata": {},
   "outputs": [
    {
     "name": "stderr",
     "output_type": "stream",
     "text": [
      "C:\\Users\\lucas\\anaconda3\\Lib\\site-packages\\google\\auth\\_default.py:76: UserWarning: Your application has authenticated using end user credentials from Google Cloud SDK without a quota project. You might receive a \"quota exceeded\" or \"API not enabled\" error. See the following page for troubleshooting: https://cloud.google.com/docs/authentication/adc-troubleshooting/user-creds. \n",
      "  warnings.warn(_CLOUD_SDK_CREDENTIALS_WARNING)\n"
     ]
    }
   ],
   "source": [
    "bq_client = bigquery.Client(project=\"evident-data-dev\")\n",
    "\n",
    "datasets = bq_client.list_datasets()\n",
    "\n",
    "data_dict = {}\n",
    "\n",
    "for dataset in datasets:\n",
    "    dataset_key = dataset.dataset_id\n",
    "    tables = bq_client.list_tables(dataset_key)\n",
    "    data_dict[dataset_key] = []\n",
    "\n",
    "    for table in tables:\n",
    "        data_dict[dataset_key].append(table.table_id)"
   ]
  },
  {
   "cell_type": "code",
   "execution_count": 3,
   "id": "ce3af5bc-7820-42f3-9f3d-d5b988523952",
   "metadata": {},
   "outputs": [
    {
     "name": "stdout",
     "output_type": "stream",
     "text": [
      "/// Dataset Results ///\n",
      "All dataset names adhere to convention\n",
      "/// Table Results ///\n",
      "The following tables failed convention checks:\n",
      "curated_business_metrics.monthly_okr_tracking\n",
      "curated_google_analytics.member_hub_events\n",
      "curated_google_patents.patents\n",
      "curated_google_scholar.ai_keyword_list\n",
      "curated_google_scholar.authors\n",
      "curated_google_scholar.authors_blacklist\n",
      "curated_google_scholar.authors_whitelist\n",
      "curated_google_scholar.company_affiliations_lookup\n",
      "curated_google_scholar.papers\n",
      "curated_google_scholar.research\n",
      "curated_google_scholar.university_affiliations_lookup\n",
      "curated_hubspot.marketing_email_recipients\n",
      "curated_linkedin_data.linkedin_posts_bank\n",
      "curated_taxonomies.company_ids\n",
      "curated_taxonomies.company_ids_batch\n",
      "curated_taxonomies.company_ids_testing\n",
      "curated_taxonomies.company_metadata\n",
      "curated_taxonomies.company_names\n",
      "curated_taxonomies.company_peer_list\n",
      "curated_use_cases.filtered_use_cases\n",
      "curated_use_cases.new_use_cases\n",
      "product_index_banking_2023.pillar_ranks\n",
      "product_index_banking_2024.indicator_group_ranks\n",
      "product_index_banking_2024.indicator_input_job_roles\n",
      "product_index_banking_2024.indicator_ranks\n",
      "product_index_banking_2024.overall_index_ranking\n",
      "product_index_banking_2024.pillar_ranks\n",
      "product_index_banking_2024.sub_pillar_ranks\n",
      "product_index_banking_2024.ventures\n",
      "product_index_insurance_2025.indicator_group_ranks\n",
      "product_index_insurance_2025.indicator_ranks\n",
      "product_index_insurance_2025.overall_index_rank\n",
      "product_index_insurance_2025.pillar_ranks\n",
      "product_index_insurance_2025.sub_pillar_ranks\n",
      "product_tracker_banking_use_cases.use_case_tracker\n",
      "raw_audit.log\n",
      "raw_business_metrics.monthly_okr_tracking\n",
      "raw_csv_imports.venture_2024_index_config\n",
      "raw_google_patents.details\n",
      "raw_google_patents.failed_details\n",
      "raw_google_patents.failed_urls\n",
      "raw_google_patents.urls\n",
      "raw_google_patents.urls_all\n",
      "raw_google_scholar.404s\n",
      "raw_google_scholar.authors\n",
      "raw_google_scholar.authors_manual\n",
      "raw_google_scholar.manual_authors\n",
      "raw_google_scholar.manual_papers\n",
      "raw_google_scholar.paper_details\n",
      "raw_google_scholar.papers\n",
      "raw_hubspot.marketing_email_events\n",
      "raw_hubspot.marketing_email_information\n",
      "raw_hubspot.marketing_email_stats\n",
      "raw_hubspot.marketing_emails_engagement\n",
      "raw_omni_uploads.omni_upload_t07d52142c3404f9182d205f0582fc87f\n",
      "raw_omni_uploads.omni_upload_t1a4413be7eb543eb8e00457cdae5d038\n",
      "raw_omni_uploads.omni_upload_t2b790ea9406343769a5fade02dec3e97\n",
      "raw_omni_uploads.omni_upload_t2ea55a9aa97d42ce86e483e7c2758360\n",
      "raw_omni_uploads.omni_upload_t2f8e381fff1c4dd3a69dce9589881860\n",
      "raw_omni_uploads.omni_upload_t324d630fa41549a492b7c3151122f00f\n",
      "raw_omni_uploads.omni_upload_t37a633f1edfc4348ac625f7dac389713\n",
      "raw_omni_uploads.omni_upload_t442aa80d42d642c9a099187d68ac514b\n",
      "raw_omni_uploads.omni_upload_t5defe52d2f204fcb82296fd6b91ed57e\n",
      "raw_omni_uploads.omni_upload_t698f0a3885834e2f85084a6193833db6\n",
      "raw_omni_uploads.omni_upload_t8237fd8854104369aa7b2e5c7c3d0342\n",
      "raw_omni_uploads.omni_upload_t8718b0095be44778bc40f6bbcf13839d\n",
      "raw_omni_uploads.omni_upload_tc2110d71cd404aac8dd60db58205b168\n",
      "raw_omni_uploads.omni_upload_tcd09a4050e944317a6987cf7390fabc2\n",
      "raw_omni_uploads.omni_upload_td7e9929976034061b0438ae0e663e422\n",
      "raw_omni_uploads.omni_upload_tde46cb619fcb467ebcf41741886926ba\n",
      "raw_omni_uploads.omni_upload_te0dbd18a385041c29806141134322073\n",
      "raw_omni_uploads.omni_upload_te311a030e92d46b7ba77a850248b5bcb\n",
      "raw_omni_uploads.omni_upload_tf82c324a372b489d98143cdf062c1668\n",
      "raw_press_releases.qa_filter_data\n",
      "raw_use_cases.use_cases\n"
     ]
    }
   ],
   "source": [
    "set_conventions = ('raw_', 'curated_', 'product_', 'temporary')\n",
    "table_conventions = ('insurance_', 'banking_', 'payments_')\n",
    "\n",
    "set_fails = []\n",
    "table_fails = []\n",
    "\n",
    "for dataset in data_dict:\n",
    "    if not dataset.startswith(set_conventions):\n",
    "        set_fails.append(dataset)\n",
    "    \n",
    "    for table in data_dict[dataset]:\n",
    "        if not table.startswith(table_conventions):\n",
    "            table_fails.append(f\"{dataset}.{table}\")\n",
    "\n",
    "print(\"/// Dataset Results ///\")\n",
    "if set_fails:\n",
    "    print(\"The following datasets failed convention checks:\")\n",
    "    for fail in set_fails:\n",
    "        print(fail)\n",
    "else:\n",
    "    print(\"All dataset names adhere to convention\")\n",
    "\n",
    "print(\"/// Table Results ///\")\n",
    "if table_fails:\n",
    "    print(\"The following tables failed convention checks:\")\n",
    "    for fail in table_fails:\n",
    "        print(fail)\n",
    "else:\n",
    "    print(\"All table names adhere to convention\")"
   ]
  },
  {
   "cell_type": "code",
   "execution_count": null,
   "id": "a08452b2-4eb8-4355-91b6-353d04b2c930",
   "metadata": {},
   "outputs": [],
   "source": []
  }
 ],
 "metadata": {
  "kernelspec": {
   "display_name": "Python 3 (ipykernel)",
   "language": "python",
   "name": "python3"
  },
  "language_info": {
   "codemirror_mode": {
    "name": "ipython",
    "version": 3
   },
   "file_extension": ".py",
   "mimetype": "text/x-python",
   "name": "python",
   "nbconvert_exporter": "python",
   "pygments_lexer": "ipython3",
   "version": "3.13.5"
  }
 },
 "nbformat": 4,
 "nbformat_minor": 5
}
