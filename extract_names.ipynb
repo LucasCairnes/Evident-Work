{
 "cells": [
  {
   "cell_type": "code",
   "execution_count": 5,
   "id": "7556257d-72c5-4d59-9e06-99377e84a573",
   "metadata": {},
   "outputs": [],
   "source": [
    "from google.cloud import bigquery, storage\n",
    "import fastavro\n",
    "import io"
   ]
  },
  {
   "cell_type": "code",
   "execution_count": 9,
   "id": "7b2a19a0-0efb-4751-8849-218dbd98555d",
   "metadata": {},
   "outputs": [
    {
     "name": "stdout",
     "output_type": "stream",
     "text": [
      "The avro file succesfully uploaded\n"
     ]
    }
   ],
   "source": [
    "project = \"evident-data-dev\"\n",
    "chosen = \"evident-data-dev-backups.lucas-test-exports\"\n",
    "\n",
    "try:\n",
    "    bq_client = bigquery.Client(project=bq_project)\n",
    "    datasets = bq_client.list_datasets()\n",
    "    sets_tables_list = []\n",
    "    \n",
    "    for dataset in datasets:\n",
    "        tables = bq_client.list_tables(dataset.dataset_id)\n",
    "        sets_tables_list.append({\"set_name\":dataset.dataset_id, \"tables_in_set\":[table.table_id for table in tables]})\n",
    "\n",
    "    schema = {\n",
    "    \"type\": \"record\",\n",
    "    \"name\": \"BQAssets\",\n",
    "    \"fields\": [\n",
    "        {\"name\": \"set_name\", \"type\": \"string\"},\n",
    "        {\"name\": \"tables_in_set\", \"type\": {\"type\": \"array\", \"items\": \"string\"}},\n",
    "    ],\n",
    "    }\n",
    "    bucket_name = \"evident-data-dev-backups\"\n",
    "    file_path = \"lucas-test-exports/bq_sets_and_tables.avro\"\n",
    "    \n",
    "    bytes_buffer = io.BytesIO()\n",
    "    fastavro.writer(bytes_buffer, schema, sets_tables_list)\n",
    "    bytes_buffer.seek(0)\n",
    "\n",
    "    storage_client = storage.Client()\n",
    "    bucket = storage_client.bucket(bucket_name)\n",
    "    blob = bucket.blob(file_path)\n",
    "\n",
    "    blob.upload_from_file(bytes_buffer, content_type='application/octet-stream')\n",
    "\n",
    "    print(\"The avro file succesfully uploaded\")\n",
    "           \n",
    "except Exception as e:\n",
    "    print(f\"An unexpected error occurred: {e}\")"
   ]
  },
  {
   "cell_type": "code",
   "execution_count": null,
   "id": "a17f5c7d-8beb-4fb6-98e5-7be134e46347",
   "metadata": {},
   "outputs": [],
   "source": []
  }
 ],
 "metadata": {
  "kernelspec": {
   "display_name": "Python 3 (ipykernel)",
   "language": "python",
   "name": "python3"
  },
  "language_info": {
   "codemirror_mode": {
    "name": "ipython",
    "version": 3
   },
   "file_extension": ".py",
   "mimetype": "text/x-python",
   "name": "python",
   "nbconvert_exporter": "python",
   "pygments_lexer": "ipython3",
   "version": "3.13.5"
  }
 },
 "nbformat": 4,
 "nbformat_minor": 5
}
