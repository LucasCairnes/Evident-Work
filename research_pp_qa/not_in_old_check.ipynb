{
 "cells": [
  {
   "cell_type": "code",
   "execution_count": 30,
   "id": "f24062c9",
   "metadata": {},
   "outputs": [],
   "source": [
    "import pandas as pd\n",
    "from google.cloud import bigquery\n",
    "import numpy as np"
   ]
  },
  {
   "cell_type": "code",
   "execution_count": 31,
   "id": "45d320f7",
   "metadata": {},
   "outputs": [
    {
     "name": "stderr",
     "output_type": "stream",
     "text": [
      "c:\\Users\\lucas\\anaconda3\\Lib\\site-packages\\google\\auth\\_default.py:76: UserWarning: Your application has authenticated using end user credentials from Google Cloud SDK without a quota project. You might receive a \"quota exceeded\" or \"API not enabled\" error. See the following page for troubleshooting: https://cloud.google.com/docs/authentication/adc-troubleshooting/user-creds. \n",
      "  warnings.warn(_CLOUD_SDK_CREDENTIALS_WARNING)\n",
      "c:\\Users\\lucas\\anaconda3\\Lib\\site-packages\\google\\cloud\\bigquery\\table.py:1965: UserWarning: BigQuery Storage module not found, fetch data with the REST endpoint instead.\n",
      "  warnings.warn(\n",
      "C:\\Users\\lucas\\AppData\\Local\\Temp\\ipykernel_7764\\3439265532.py:5: DtypeWarning: Columns (7) have mixed types. Specify dtype option on import or set low_memory=False.\n",
      "  qa_df = pd.read_csv('research_papers_qa_dataset.csv', index_col=0)\n"
     ]
    }
   ],
   "source": [
    "new_output_df = pd.read_csv('research_papers_new_processing.csv', index_col=0)\n",
    "bq_client = bigquery.Client(project='evident-data-dev')\n",
    "old_output_df = bq_client.list_rows('evident-data-dev.curated_google_scholar.banking_research').to_dataframe()\n",
    "\n",
    "qa_df = pd.read_csv('research_papers_qa_dataset.csv', index_col=0)"
   ]
  },
  {
   "cell_type": "code",
   "execution_count": 32,
   "id": "a73834e5",
   "metadata": {},
   "outputs": [
    {
     "name": "stdout",
     "output_type": "stream",
     "text": [
      "2936\n"
     ]
    }
   ],
   "source": [
    "mask = ~new_output_df['paper_url'].isin(old_output_df['paper_url'])\n",
    "\n",
    "new_not_old_df = new_output_df[mask]\n",
    "\n",
    "print(new_not_old_df[new_not_old_df.columns[1]].count())"
   ]
  },
  {
   "cell_type": "code",
   "execution_count": 33,
   "id": "20ec9bea",
   "metadata": {},
   "outputs": [],
   "source": [
    "companies_to_check = (\"HSBC\", \"ING\")"
   ]
  },
  {
   "cell_type": "code",
   "execution_count": 34,
   "id": "bf8fd2e1",
   "metadata": {},
   "outputs": [],
   "source": [
    "lhs_cols = [\"paper_url\", \"paper_title\", \"paper_description\"]\n",
    "rhs_cols = ['url', \"publication_date\", \"tags\",\n",
    "            \"excluded_tags\", \"keyword_tags\"]"
   ]
  },
  {
   "cell_type": "code",
   "execution_count": null,
   "id": "41622040",
   "metadata": {},
   "outputs": [],
   "source": [
    "two_banks_with_qa = pd.merge(\n",
    "    new_not_old_df[new_not_old_df['company_name'].isin(companies_to_check)][lhs_cols],\n",
    "    qa_df[rhs_cols],\n",
    "    left_on='paper_url',\n",
    "    right_on = 'url',\n",
    "    how='left').drop(columns=['url'])\n",
    "\n",
    "#two_banks_with_qa.to_excel('new_not_in_old_df.xlsx')"
   ]
  }
 ],
 "metadata": {
  "kernelspec": {
   "display_name": "base",
   "language": "python",
   "name": "python3"
  },
  "language_info": {
   "codemirror_mode": {
    "name": "ipython",
    "version": 3
   },
   "file_extension": ".py",
   "mimetype": "text/x-python",
   "name": "python",
   "nbconvert_exporter": "python",
   "pygments_lexer": "ipython3",
   "version": "3.13.5"
  }
 },
 "nbformat": 4,
 "nbformat_minor": 5
}
