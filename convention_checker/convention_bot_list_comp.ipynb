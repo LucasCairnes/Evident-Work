{
 "cells": [
  {
   "cell_type": "code",
   "execution_count": 37,
   "id": "9320c9c3",
   "metadata": {},
   "outputs": [],
   "source": [
    "import requests\n",
    "from google.cloud import bigquery\n",
    "from datetime import datetime"
   ]
  },
  {
   "cell_type": "code",
   "execution_count": 38,
   "id": "a43011de",
   "metadata": {},
   "outputs": [],
   "source": [
    "def send_slack_message(webhook_url, message):\n",
    "\n",
    "    message['time'] = datetime.now().strftime(\"%I:%M %p\")\n",
    "\n",
    "    response = requests.post(\n",
    "        webhook_url,\n",
    "        json=message\n",
    "      )\n",
    "      \n",
    "    print(response.text)\n"
   ]
  },
  {
   "cell_type": "code",
   "execution_count": 39,
   "id": "ce2ce04c",
   "metadata": {},
   "outputs": [],
   "source": [
    "slack_webhook = \"INSERT SLACKHOOK\"\n",
    "\n",
    "project = \"evident-data-dev\"\n",
    "\n",
    "dataset_conventions = ('raw_', 'curated_', 'product_', 'temporary')\n",
    "table_conventions = ('insurance_', 'banking_', 'payments_', 'omni_')\n",
    "\n",
    "dataset_whitelist = [\n",
    "                     \"curated_taxonomies\",\n",
    "                     \"curated_business_metrics\",\n",
    "                     \"curated_hubspot\", \n",
    "                     \"raw_csv_imports\",\n",
    "                     \"raw_hubspot\",\n",
    "                     \"raw_business_metrics\"        \n",
    "                    ]     \n",
    "dataset_whitelist_sw = (\"product_index\")\n",
    "\n",
    "table_whitelist = []\n",
    "table_whitelist_sw = ()"
   ]
  },
  {
   "cell_type": "code",
   "execution_count": null,
   "id": "08fa6173",
   "metadata": {},
   "outputs": [
    {
     "name": "stderr",
     "output_type": "stream",
     "text": [
      "c:\\Users\\lucas\\anaconda3\\Lib\\site-packages\\google\\auth\\_default.py:76: UserWarning: Your application has authenticated using end user credentials from Google Cloud SDK without a quota project. You might receive a \"quota exceeded\" or \"API not enabled\" error. See the following page for troubleshooting: https://cloud.google.com/docs/authentication/adc-troubleshooting/user-creds. \n",
      "  warnings.warn(_CLOUD_SDK_CREDENTIALS_WARNING)\n"
     ]
    },
    {
     "name": "stdout",
     "output_type": "stream",
     "text": [
      "[]\n"
     ]
    }
   ],
   "source": [
    "fail_datasets = []\n",
    "fail_tables = []\n",
    "\n",
    "payload = {\"project\":project}\n",
    "\n",
    "bq_client = bigquery.Client(project=project)\n",
    "datasets = list(bq_client.list_datasets())\n",
    "\n",
    "dataset_whitelist.append([dataset for dataset in datasets if dataset.startswith(dataset_whitelist_sw)])\n",
    "datasets.remove(dataset_whitelist)\n",
    "\n",
    "fail_datasets = [\n",
    "        dataset.dataset_id\n",
    "        for dataset in datasets\n",
    "        if not dataset.dataset_id.startswith(dataset_conventions)\n",
    "]\n",
    "\n",
    "'''\n",
    "\n",
    "for dataset in datasets:\n",
    "    dataset_id = dataset.dataset_id\n",
    "\n",
    "    fail_datasets = [dataset_id for dataset in datasets if not dataset_id.startswith(set_conventions)]\n",
    "\n",
    "\n",
    "    if dataset_id.startswith(dataset_whitelist_sw) or dataset_id in dataset_whitelist:\n",
    "        continue\n",
    "\n",
    "    if not dataset_id.startswith(set_conventions):\n",
    "        fail_datasets.append(f\"\\n{dataset_id}\")\n",
    "    \n",
    "    tables = bq_client.list_tables(dataset_id)\n",
    "    for table in tables:\n",
    "        table_id = table.table_id\n",
    "\n",
    "        if table_id.startswith(table_whitelist_sw) or table_id in table_whitelist:\n",
    "            continue\n",
    "\n",
    "        if not table_id.startswith(table_conventions):\n",
    "            fail_tables.append(f\"\\n{table_id}\")\n",
    "'''\n",
    "\n",
    "\n",
    "\n",
    "fail_datasets = [\n",
    "        dataset.dataset_id\n",
    "        for dataset in datasets\n",
    "        if not dataset.dataset_id.startswith(dataset_conventions)\n",
    "]\n",
    "\n",
    "print(fail_datasets)\n"
   ]
  }
 ],
 "metadata": {
  "kernelspec": {
   "display_name": "base",
   "language": "python",
   "name": "python3"
  },
  "language_info": {
   "codemirror_mode": {
    "name": "ipython",
    "version": 3
   },
   "file_extension": ".py",
   "mimetype": "text/x-python",
   "name": "python",
   "nbconvert_exporter": "python",
   "pygments_lexer": "ipython3",
   "version": "3.13.5"
  }
 },
 "nbformat": 4,
 "nbformat_minor": 5
}
