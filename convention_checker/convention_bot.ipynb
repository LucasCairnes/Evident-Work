{
 "cells": [
  {
   "cell_type": "code",
   "execution_count": 4,
   "id": "9320c9c3",
   "metadata": {},
   "outputs": [],
   "source": [
    "import requests\n",
    "from google.cloud import bigquery"
   ]
  },
  {
   "cell_type": "code",
   "execution_count": null,
   "id": "a43011de",
   "metadata": {},
   "outputs": [],
   "source": [
    "def send_slack_message(webhook_url, message):\n",
    "    payload = '{text: \"%s\"}' % message\n",
    "\n",
    "    resposne = requests.post(\n",
    "        webhook_url,\n",
    "        data=payload,\n",
    "    )"
   ]
  },
  {
   "cell_type": "code",
   "execution_count": 6,
   "id": "8436ee53",
   "metadata": {},
   "outputs": [
    {
     "name": "stderr",
     "output_type": "stream",
     "text": [
      "c:\\Users\\lucas\\anaconda3\\Lib\\site-packages\\google\\auth\\_default.py:76: UserWarning: Your application has authenticated using end user credentials from Google Cloud SDK without a quota project. You might receive a \"quota exceeded\" or \"API not enabled\" error. See the following page for troubleshooting: https://cloud.google.com/docs/authentication/adc-troubleshooting/user-creds. \n",
      "  warnings.warn(_CLOUD_SDK_CREDENTIALS_WARNING)\n"
     ]
    }
   ],
   "source": [
    "bq_client = bigquery.Client(project=\"evident-data-dev\")\n",
    "\n",
    "datasets = bq_client.list_datasets()\n",
    "data_dict = {}\n",
    "\n",
    "for dataset in datasets:\n",
    "    dataset_key = dataset.dataset_id\n",
    "    tables = bq_client.list_tables(dataset_key)\n",
    "    data_dict[dataset_key] = []\n",
    "\n",
    "    for table in tables:\n",
    "        data_dict[dataset_key].append(table.table_id)"
   ]
  },
  {
   "cell_type": "code",
   "execution_count": null,
   "id": "08fa6173",
   "metadata": {},
   "outputs": [],
   "source": [
    "slack_webhook = \"INSERT WEBHOOK HERE\"\n",
    "\n",
    "set_conventions = ('raw_', 'curated_', 'product_', 'temporary')\n",
    "table_conventions = ('insurance_', 'banking_', 'payments_')\n",
    "\n",
    "for dataset in data_dict:\n",
    "    if not dataset.startswith(set_conventions):\n",
    "        fail_message = f\"Dataset {dataset.dataset_id} does not follow naming conventions.\"\n",
    "        send_slack_message(slack_webhook, fail_message)\n",
    "    \n",
    "    for table in data_dict[dataset]:\n",
    "        if not table.startswith(table_conventions):\n",
    "            fail_message = f\"Dataset {table.table_id} does not follow naming conventions.\"\n",
    "            send_slack_message(slack_webhook, fail_message)"
   ]
  }
 ],
 "metadata": {
  "kernelspec": {
   "display_name": "base",
   "language": "python",
   "name": "python3"
  },
  "language_info": {
   "codemirror_mode": {
    "name": "ipython",
    "version": 3
   },
   "file_extension": ".py",
   "mimetype": "text/x-python",
   "name": "python",
   "nbconvert_exporter": "python",
   "pygments_lexer": "ipython3",
   "version": "3.13.5"
  }
 },
 "nbformat": 4,
 "nbformat_minor": 5
}
