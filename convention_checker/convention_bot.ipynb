{
 "cells": [
  {
   "cell_type": "code",
   "execution_count": 41,
   "id": "9320c9c3",
   "metadata": {},
   "outputs": [],
   "source": [
    "import requests\n",
    "from google.cloud import bigquery"
   ]
  },
  {
   "cell_type": "code",
   "execution_count": null,
   "id": "a43011de",
   "metadata": {},
   "outputs": [],
   "source": [
    "def send_slack_message(webhook_url, message):\n",
    "    payload_dict = {\"text\": message}\n",
    "    \n",
    "    response = requests.post(\n",
    "        webhook_url,\n",
    "        json=payload_dict\n",
    "    )\n",
    "    print(response.text)\n"
   ]
  },
  {
   "cell_type": "code",
   "execution_count": null,
   "id": "08fa6173",
   "metadata": {},
   "outputs": [
    {
     "name": "stderr",
     "output_type": "stream",
     "text": [
      "c:\\Users\\lucas\\anaconda3\\Lib\\site-packages\\google\\auth\\_default.py:76: UserWarning: Your application has authenticated using end user credentials from Google Cloud SDK without a quota project. You might receive a \"quota exceeded\" or \"API not enabled\" error. See the following page for troubleshooting: https://cloud.google.com/docs/authentication/adc-troubleshooting/user-creds. \n",
      "  warnings.warn(_CLOUD_SDK_CREDENTIALS_WARNING)\n"
     ]
    },
    {
     "ename": "NameError",
     "evalue": "name 'webhook_url' is not defined",
     "output_type": "error",
     "traceback": [
      "\u001b[1;31m---------------------------------------------------------------------------\u001b[0m",
      "\u001b[1;31mNameError\u001b[0m                                 Traceback (most recent call last)",
      "Cell \u001b[1;32mIn[43], line 31\u001b[0m\n\u001b[0;32m     28\u001b[0m \u001b[38;5;28;01melse\u001b[39;00m:\n\u001b[0;32m     29\u001b[0m     table_message \u001b[38;5;241m=\u001b[39m \u001b[38;5;124m\"\u001b[39m\u001b[38;5;124m/// All tables are follow naming conventions ///\u001b[39m\u001b[38;5;124m\"\u001b[39m\n\u001b[1;32m---> 31\u001b[0m send_slack_message(webhook_url, set_message)\n\u001b[0;32m     32\u001b[0m send_slack_message(webhook_url, table_message)\n",
      "\u001b[1;31mNameError\u001b[0m: name 'webhook_url' is not defined"
     ]
    }
   ],
   "source": [
    "slack_webhook = \"INSERT WEBHOOK HERE\"\n",
    "\n",
    "set_conventions = ('raw_', 'curated_', 'product_', 'temporary')\n",
    "table_conventions = ('insurance_', 'banking_', 'payments_')\n",
    "\n",
    "fail_sets = []\n",
    "fail_tables = []\n",
    "\n",
    "bq_client = bigquery.Client(project=\"evident-data-dev\")\n",
    "datasets = bq_client.list_datasets()\n",
    "\n",
    "for dataset in datasets:\n",
    "    if not dataset.dataset_id.startswith(set_conventions):\n",
    "        fail_sets.append(dataset.dataset_id)\n",
    "    \n",
    "    tables = bq_client.list_tables(dataset.dataset_id)\n",
    "    for table in tables:\n",
    "        if not table.dataset_id.startswith(table_conventions):\n",
    "            fail_tables.append(f\"{dataset.dataset_id}.{table.table_id}\")\n",
    "\n",
    "if fail_sets:\n",
    "    set_message = f\"/// The following sets fail naming conventions /// \\n{\"\\n\".join(fail_sets)}\" \n",
    "else:\n",
    "    set_message = \"/// All sets are follow naming conventions ///\"\n",
    "\n",
    "if fail_tables:\n",
    "    table_message = f\"/// The following tables fail naming conventions /// \\n{\"\\n\".join(fail_tables)}\" \n",
    "else:\n",
    "    table_message = \"/// All tables are follow naming conventions ///\"\n",
    "\n",
    "send_slack_message(slack_webhook, set_message)\n",
    "send_slack_message(slack_webhook, table_message)"
   ]
  }
 ],
 "metadata": {
  "kernelspec": {
   "display_name": "base",
   "language": "python",
   "name": "python3"
  },
  "language_info": {
   "codemirror_mode": {
    "name": "ipython",
    "version": 3
   },
   "file_extension": ".py",
   "mimetype": "text/x-python",
   "name": "python",
   "nbconvert_exporter": "python",
   "pygments_lexer": "ipython3",
   "version": "3.13.5"
  }
 },
 "nbformat": 4,
 "nbformat_minor": 5
}
