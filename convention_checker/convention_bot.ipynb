{
 "cells": [
  {
   "cell_type": "code",
   "execution_count": 25,
   "id": "9320c9c3",
   "metadata": {},
   "outputs": [],
   "source": [
    "import requests\n",
    "from google.cloud import bigquery\n",
    "from datetime import datetime"
   ]
  },
  {
   "cell_type": "code",
   "execution_count": 26,
   "id": "a43011de",
   "metadata": {},
   "outputs": [],
   "source": [
    "def send_slack_message(webhook_url, message):\n",
    "\n",
    "    message['time'] = datetime.now().strftime(\"%I:%M %p\")\n",
    "\n",
    "    response = requests.post(\n",
    "        webhook_url,\n",
    "        json=message\n",
    "      )\n",
    "      \n",
    "    print(response.text)\n"
   ]
  },
  {
   "cell_type": "code",
   "execution_count": 27,
   "id": "ce2ce04c",
   "metadata": {},
   "outputs": [],
   "source": [
    "slack_webhook = \"INSERT SLACKHOOK\"\n",
    "\n",
    "project = \"evident-data-dev\"\n",
    "\n",
    "dataset_conventions = ('raw_', 'curated_', 'product_', 'temporary')\n",
    "table_conventions = ('insurance_', 'banking_', 'payments_', 'omni_')\n",
    "\n",
    "dataset_whitelist = {\n",
    "                     \"curated_taxonomies\",\n",
    "                     \"curated_business_metrics\",\n",
    "                     \"curated_hubspot\", \n",
    "                     \"raw_csv_imports\",\n",
    "                     \"raw_hubspot\",\n",
    "                     \"raw_business_metrics\"        \n",
    "                    }     \n",
    "dataset_whitelist_sw = (\"product_index\")\n",
    "\n",
    "table_whitelist = {}\n",
    "table_whitelist_sw = ()"
   ]
  },
  {
   "cell_type": "code",
   "execution_count": null,
   "id": "08fa6173",
   "metadata": {},
   "outputs": [
    {
     "name": "stdout",
     "output_type": "stream",
     "text": [
      "{'project': 'evident-data-dev', 'failed_datasets': 'none', 'failed_tables': ['\\ncurated_google_analytics.member_hub_events', '\\ncurated_google_patents.patents', '\\ncurated_google_scholar.ai_keyword_list', '\\ncurated_google_scholar.authors', '\\ncurated_google_scholar.authors_blacklist', '\\ncurated_google_scholar.authors_whitelist', '\\ncurated_google_scholar.company_affiliations_lookup', '\\ncurated_google_scholar.papers', '\\ncurated_google_scholar.research', '\\ncurated_google_scholar.university_affiliations_lookup', '\\ncurated_indicator_evidence.indicator_evidence', '\\ncurated_linkedin_data.linkedin_posts_bank', '\\ncurated_use_cases.filtered_use_cases', '\\ncurated_use_cases.new_use_cases', '\\nproduct_tracker_banking_use_cases.use_case_tracker', '\\nraw_audit.log', '\\nraw_google_patents.details', '\\nraw_google_patents.failed_details', '\\nraw_google_patents.failed_urls', '\\nraw_google_patents.urls', '\\nraw_google_patents.urls_all', '\\nraw_google_scholar.404s', '\\nraw_google_scholar.authors', '\\nraw_google_scholar.authors_manual', '\\nraw_google_scholar.manual_authors', '\\nraw_google_scholar.manual_papers', '\\nraw_google_scholar.paper_details', '\\nraw_google_scholar.papers', '\\nraw_indicator_evidence.evidence_mismatches', '\\nraw_indicator_evidence.indicator_evidence', '\\nraw_press_releases.qa_filter_data', '\\nraw_use_cases.use_cases', '\\ntemporary.urls']}\n"
     ]
    }
   ],
   "source": [
    "fail_datasets = []\n",
    "fail_tables = []\n",
    "\n",
    "payload = {\"project\":project}\n",
    "\n",
    "bq_client = bigquery.Client(project=project)\n",
    "datasets = bq_client.list_datasets()\n",
    "\n",
    "for dataset in datasets:\n",
    "    dataset_id = dataset.dataset_id\n",
    "\n",
    "    if dataset_id in dataset_whitelist or dataset_id.startswith(dataset_whitelist_sw):\n",
    "        continue\n",
    "\n",
    "    if not dataset_id.startswith(dataset_conventions):\n",
    "        fail_datasets.append(f\"\\n{dataset_id}\")\n",
    "    \n",
    "    tables = bq_client.list_tables(dataset_id)\n",
    "    for table in tables:\n",
    "        table_id = table.table_id\n",
    "\n",
    "        if table_id in table_whitelist or table_id.startswith(table_whitelist_sw):\n",
    "            continue\n",
    "\n",
    "        if not table_id.startswith(table_conventions):\n",
    "            fail_tables.append(f\"\\n{dataset_id}.{table_id}\")\n",
    "\n",
    "payload[\"failed_datasets\"] = sorted(fail_datasets) if fail_datasets else \"none\"\n",
    "payload[\"failed_tables\"] = sorted(fail_tables) if fail_tables else \"All passing\"\n",
    "\n",
    "send_slack_message(slack_webhook, payload)"
   ]
  }
 ],
 "metadata": {
  "kernelspec": {
   "display_name": "base",
   "language": "python",
   "name": "python3"
  },
  "language_info": {
   "codemirror_mode": {
    "name": "ipython",
    "version": 3
   },
   "file_extension": ".py",
   "mimetype": "text/x-python",
   "name": "python",
   "nbconvert_exporter": "python",
   "pygments_lexer": "ipython3",
   "version": "3.13.5"
  }
 },
 "nbformat": 4,
 "nbformat_minor": 5
}
