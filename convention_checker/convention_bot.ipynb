{
 "cells": [
  {
   "cell_type": "code",
   "execution_count": 31,
   "id": "9320c9c3",
   "metadata": {},
   "outputs": [],
   "source": [
    "import requests\n",
    "from google.cloud import bigquery\n",
    "from datetime import datetime"
   ]
  },
  {
   "cell_type": "code",
   "execution_count": 32,
   "id": "a43011de",
   "metadata": {},
   "outputs": [],
   "source": [
    "def send_slack_message(webhook_url, message):\n",
    "\n",
    "    message['time'] = datetime.now().strftime(\"%I:%M %p\")\n",
    "    \n",
    "    response = requests.post(\n",
    "        webhook_url,\n",
    "        json=message\n",
    "      )\n",
    "    \n",
    "    print(response.text)\n"
   ]
  },
  {
   "cell_type": "code",
   "execution_count": null,
   "id": "08fa6173",
   "metadata": {},
   "outputs": [
    {
     "name": "stderr",
     "output_type": "stream",
     "text": [
      "c:\\Users\\lucas\\anaconda3\\Lib\\site-packages\\google\\auth\\_default.py:76: UserWarning: Your application has authenticated using end user credentials from Google Cloud SDK without a quota project. You might receive a \"quota exceeded\" or \"API not enabled\" error. See the following page for troubleshooting: https://cloud.google.com/docs/authentication/adc-troubleshooting/user-creds. \n",
      "  warnings.warn(_CLOUD_SDK_CREDENTIALS_WARNING)\n"
     ]
    },
    {
     "name": "stdout",
     "output_type": "stream",
     "text": [
      "member_hub_events\n",
      "patents\n",
      "ai_keyword_list\n",
      "authors\n",
      "authors_blacklist\n",
      "authors_whitelist\n",
      "company_affiliations_lookup\n",
      "papers\n",
      "research\n",
      "university_affiliations_lookup\n",
      "indicator_evidence\n",
      "linkedin_posts_bank\n",
      "filtered_use_cases\n",
      "new_use_cases\n",
      "use_case_tracker\n",
      "log\n",
      "monthly_okr_tracking\n",
      "bank_2023_pillar_rankings\n",
      "venture_2024_index_config\n",
      "details\n",
      "failed_details\n",
      "failed_urls\n",
      "urls\n",
      "urls_all\n",
      "404s\n",
      "authors\n",
      "authors_manual\n",
      "manual_authors\n",
      "manual_papers\n",
      "paper_details\n",
      "papers\n",
      "marketing_email_events\n",
      "marketing_email_information\n",
      "marketing_email_stats\n",
      "marketing_emails_engagement\n",
      "evidence_mismatches\n",
      "indicator_evidence\n",
      "qa_filter_data\n",
      "use_cases\n",
      "{\"ok\":true}\n"
     ]
    }
   ],
   "source": [
    "project = \"evident-data-dev\"\n",
    "\n",
    "slack_webhook = \"INSERT SLACKHOOK\"\n",
    "\n",
    "set_conventions = ('raw_', 'curated_', 'product_', 'temporary')\n",
    "table_conventions = ('insurance_', 'banking_', 'payments_', 'omni_')\n",
    "\n",
    "dataset_whitelist = (\"curated_taxonomies\", \"curated_business_metrics\", \"curated_hubspot\", \n",
    "                      \"raw_csv_imports\", \"raw_hubspot\", \"raw_business_metrics\")\n",
    "dataset_whitelist_sw = (\"product_index\")\n",
    "\n",
    "table_whitelist = ()\n",
    "table_whitelist_sw = ()\n",
    "\n",
    "fail_datasets = []\n",
    "fail_tables = []\n",
    "\n",
    "payload = {\"project\":project}\n",
    "\n",
    "bq_client = bigquery.Client(project=project)\n",
    "datasets = bq_client.list_datasets()\n",
    "\n",
    "for dataset in datasets:\n",
    "    dataset_name = dataset.dataset_id\n",
    "\n",
    "    if dataset_name.startswith(dataset_whitelist_sw) or dataset_name in dataset_whitelist:\n",
    "        continue\n",
    "\n",
    "    elif not dataset_name.startswith(set_conventions):\n",
    "        fail_datasets.append(f\"\\n{dataset_name}\")\n",
    "    \n",
    "    tables = bq_client.list_tables(dataset_name)\n",
    "    for table in tables:\n",
    "        table_name = table.table_id\n",
    "\n",
    "        if table_name.startswith(table_whitelist_sw) or table_name in table_whitelist:\n",
    "            continue\n",
    "\n",
    "        elif not table_name.startswith(table_conventions):\n",
    "            fail_tables.append(f\"\\n{table_name}\")\n",
    "\n",
    "if fail_datasets:\n",
    "    payload[\"failed_datasets\"] = sorted(fail_datasets)\n",
    "\n",
    "else:\n",
    "    payload[\"failed_datasets\"] = \"none\"\n",
    "\n",
    "if fail_tables:\n",
    "    payload[\"failed_tables\"] = sorted(fail_tables)\n",
    "\n",
    "else:\n",
    "    payload[\"failed_tables\"] = \"All passing\"\n",
    "\n",
    "send_slack_message(slack_webhook, payload)"
   ]
  }
 ],
 "metadata": {
  "kernelspec": {
   "display_name": "base",
   "language": "python",
   "name": "python3"
  },
  "language_info": {
   "codemirror_mode": {
    "name": "ipython",
    "version": 3
   },
   "file_extension": ".py",
   "mimetype": "text/x-python",
   "name": "python",
   "nbconvert_exporter": "python",
   "pygments_lexer": "ipython3",
   "version": "3.13.5"
  }
 },
 "nbformat": 4,
 "nbformat_minor": 5
}
