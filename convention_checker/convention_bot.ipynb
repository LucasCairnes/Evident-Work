{
 "cells": [
  {
   "cell_type": "code",
   "execution_count": 10,
   "id": "9320c9c3",
   "metadata": {},
   "outputs": [],
   "source": [
    "import requests\n",
    "from google.cloud import bigquery"
   ]
  },
  {
   "cell_type": "code",
   "execution_count": 11,
   "id": "a43011de",
   "metadata": {},
   "outputs": [],
   "source": [
    "def send_slack_message(webhook_url, message):\n",
    "    '''\n",
    "    response = requests.post(\n",
    "        webhook_url,\n",
    "        json=message\n",
    "    )\n",
    "    print(response.text)\n",
    "    '''\n",
    "    print(message)\n"
   ]
  },
  {
   "cell_type": "code",
   "execution_count": 12,
   "id": "08fa6173",
   "metadata": {},
   "outputs": [
    {
     "name": "stdout",
     "output_type": "stream",
     "text": [
      "{'failed_tables': ['curated_business_metrics.monthly_okr_tracking', 'curated_google_analytics.member_hub_events', 'curated_google_patents.banking_patents', 'curated_google_patents.insurance_patents', 'curated_google_patents.patents', 'curated_google_patents.payments_patents', 'curated_google_scholar.ai_keyword_list', 'curated_google_scholar.authors', 'curated_google_scholar.authors_blacklist', 'curated_google_scholar.authors_whitelist', 'curated_google_scholar.banking_authors', 'curated_google_scholar.banking_research', 'curated_google_scholar.company_affiliations_lookup', 'curated_google_scholar.insurance_authors', 'curated_google_scholar.insurance_research', 'curated_google_scholar.papers', 'curated_google_scholar.research', 'curated_google_scholar.university_affiliations_lookup', 'curated_hubspot.marketing_email_recipients', 'curated_indicator_evidence.indicator_evidence', 'curated_linkedin_data.banking_posts', 'curated_linkedin_data.insurance_posts', 'curated_linkedin_data.linkedin_posts_bank', 'curated_linkedin_data.payments_posts', 'curated_press_releases.banking_press_releases', 'curated_press_releases.insurance_press_releases', 'curated_taxonomies.company_ids', 'curated_taxonomies.company_ids_batch', 'curated_taxonomies.company_ids_testing', 'curated_taxonomies.company_metadata', 'curated_taxonomies.company_names', 'curated_taxonomies.company_peer_list', 'curated_use_cases.banking_use_case_tracker', 'curated_use_cases.filtered_use_cases', 'curated_use_cases.insurance_use_case_tracker', 'curated_use_cases.new_use_cases', 'product_index_banking_2023.pillar_ranks', 'product_index_banking_2024.ai_keywords', 'product_index_banking_2024.ai_patents', 'product_index_banking_2024.ai_research_papers', 'product_index_banking_2024.indicator_group_ranks', 'product_index_banking_2024.indicator_input_job_roles', 'product_index_banking_2024.indicator_ranks', 'product_index_banking_2024.job_keywords', 'product_index_banking_2024.overall_index_ranking', 'product_index_banking_2024.patent_keywords', 'product_index_banking_2024.pillar_ranks', 'product_index_banking_2024.sub_pillar_ranks', 'product_index_banking_2024.ventures', 'product_index_insurance_2025.ai_keywords', 'product_index_insurance_2025.indicator_group_ranks', 'product_index_insurance_2025.indicator_ranks', 'product_index_insurance_2025.job_title_keywords', 'product_index_insurance_2025.overall_index_rank', 'product_index_insurance_2025.patent_keywords', 'product_index_insurance_2025.pillar_ranks', 'product_index_insurance_2025.sub_pillar_ranks', 'product_tracker_banking_use_cases.use_case_tracker', 'raw_audit.log', 'raw_business_metrics.monthly_okr_tracking', 'raw_csv_imports.venture_2024_index_config', 'raw_google_patents.banking_QA', 'raw_google_patents.banking_details', 'raw_google_patents.banking_urls', 'raw_google_patents.banking_urls_all', 'raw_google_patents.details', 'raw_google_patents.failed_details', 'raw_google_patents.failed_urls', 'raw_google_patents.insurance_QA', 'raw_google_patents.insurance_details', 'raw_google_patents.insurance_urls', 'raw_google_patents.insurance_urls_all', 'raw_google_patents.payments_QA', 'raw_google_patents.payments_details', 'raw_google_patents.payments_urls', 'raw_google_patents.payments_urls_all', 'raw_google_patents.urls', 'raw_google_patents.urls_all', 'raw_google_scholar.404s', 'raw_google_scholar.authors', 'raw_google_scholar.authors_manual', 'raw_google_scholar.banking_authors', 'raw_google_scholar.banking_papers', 'raw_google_scholar.insurance_authors', 'raw_google_scholar.insurance_papers', 'raw_google_scholar.manual_authors', 'raw_google_scholar.manual_papers', 'raw_google_scholar.paper_details', 'raw_google_scholar.papers', 'raw_google_scholar.payments_authors', 'raw_google_scholar.payments_papers', 'raw_hubspot.marketing_email_events', 'raw_hubspot.marketing_email_information', 'raw_hubspot.marketing_email_stats', 'raw_hubspot.marketing_emails_engagement', 'raw_indicator_evidence.evidence_mismatches', 'raw_indicator_evidence.indicator_evidence', 'raw_linkedin_data.banking_posts', 'raw_linkedin_data.insurance_posts', 'raw_linkedin_data.payments_posts', 'raw_omni_uploads.omni_upload_t07d52142c3404f9182d205f0582fc87f', 'raw_omni_uploads.omni_upload_t1a4413be7eb543eb8e00457cdae5d038', 'raw_omni_uploads.omni_upload_t2b790ea9406343769a5fade02dec3e97', 'raw_omni_uploads.omni_upload_t2ea55a9aa97d42ce86e483e7c2758360', 'raw_omni_uploads.omni_upload_t2f8e381fff1c4dd3a69dce9589881860', 'raw_omni_uploads.omni_upload_t324d630fa41549a492b7c3151122f00f', 'raw_omni_uploads.omni_upload_t37a633f1edfc4348ac625f7dac389713', 'raw_omni_uploads.omni_upload_t442aa80d42d642c9a099187d68ac514b', 'raw_omni_uploads.omni_upload_t5defe52d2f204fcb82296fd6b91ed57e', 'raw_omni_uploads.omni_upload_t698f0a3885834e2f85084a6193833db6', 'raw_omni_uploads.omni_upload_t8237fd8854104369aa7b2e5c7c3d0342', 'raw_omni_uploads.omni_upload_t8718b0095be44778bc40f6bbcf13839d', 'raw_omni_uploads.omni_upload_tc2110d71cd404aac8dd60db58205b168', 'raw_omni_uploads.omni_upload_tcd09a4050e944317a6987cf7390fabc2', 'raw_omni_uploads.omni_upload_td7e9929976034061b0438ae0e663e422', 'raw_omni_uploads.omni_upload_tde46cb619fcb467ebcf41741886926ba', 'raw_omni_uploads.omni_upload_te0dbd18a385041c29806141134322073', 'raw_omni_uploads.omni_upload_te311a030e92d46b7ba77a850248b5bcb', 'raw_omni_uploads.omni_upload_tf82c324a372b489d98143cdf062c1668', 'raw_press_releases.banking_press_releases', 'raw_press_releases.insurance_press_releases', 'raw_press_releases.qa_filter_data', 'raw_taxonomies.banking_peers_upload', 'raw_taxonomies.insurance_peer', 'raw_use_cases.banking_use_case_tracker', 'raw_use_cases.insurance_use_case_tracker', 'raw_use_cases.use_cases']}\n"
     ]
    }
   ],
   "source": [
    "slack_webhook = \"INSERT WEBHOOK HERE\"\n",
    "\n",
    "set_conventions = ('raw_', 'curated_', 'product_', 'temporary')\n",
    "table_conventions = ('insurance_', 'banking_', 'payments_')\n",
    "\n",
    "fail_sets = []\n",
    "fail_tables = []\n",
    "\n",
    "bq_client = bigquery.Client(project=\"evident-data-dev\")\n",
    "datasets = bq_client.list_datasets()\n",
    "\n",
    "for dataset in datasets:\n",
    "    if not dataset.dataset_id.startswith(set_conventions):\n",
    "        fail_sets.append(dataset.dataset_id)\n",
    "    \n",
    "    tables = bq_client.list_tables(dataset.dataset_id)\n",
    "    for table in tables:\n",
    "        if not table.dataset_id.startswith(table_conventions):\n",
    "            fail_tables.append(f\"{dataset.dataset_id}.{table.table_id}\")\n",
    "\n",
    "'''\n",
    "if fail_sets:\n",
    "    set_message = f\"/// The following sets fail naming conventions /// \\n{\"\\n\".join(fail_sets)}\" \n",
    "else:\n",
    "    set_message = \"/// All sets are follow naming conventions ///\"\n",
    "\n",
    "if fail_tables:\n",
    "    table_message = f\"/// The following tables fail naming conventions /// \\n{\"\\n\".join(fail_tables)}\" \n",
    "else:\n",
    "    table_message = \"/// All tables are follow naming conventions ///\"\n",
    "'''\n",
    "\n",
    "if fail_tables:\n",
    "    table_payload = {\"failed_tables\":sorted(fail_tables)}\n",
    "    send_slack_message(slack_webhook, table_payload)\n",
    "\n",
    "if fail_sets:\n",
    "    set_payload = {\"failed_sets\":sorted(fail_sets)}\n",
    "    send_slack_message(slack_webhook, set_payload)\n",
    "\n"
   ]
  }
 ],
 "metadata": {
  "kernelspec": {
   "display_name": "base",
   "language": "python",
   "name": "python3"
  },
  "language_info": {
   "codemirror_mode": {
    "name": "ipython",
    "version": 3
   },
   "file_extension": ".py",
   "mimetype": "text/x-python",
   "name": "python",
   "nbconvert_exporter": "python",
   "pygments_lexer": "ipython3",
   "version": "3.13.5"
  }
 },
 "nbformat": 4,
 "nbformat_minor": 5
}
