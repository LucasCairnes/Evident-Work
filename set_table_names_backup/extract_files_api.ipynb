{
 "cells": [
  {
   "cell_type": "code",
   "execution_count": 11,
   "id": "7556257d-72c5-4d59-9e06-99377e84a573",
   "metadata": {},
   "outputs": [],
   "source": [
    "from google.cloud import bigquery, storage\n",
    "import fastavro\n"
   ]
  },
  {
   "cell_type": "code",
   "execution_count": null,
   "id": "7b2a19a0-0efb-4751-8849-218dbd98555d",
   "metadata": {},
   "outputs": [
    {
     "name": "stderr",
     "output_type": "stream",
     "text": [
      "c:\\Users\\lucas\\anaconda3\\Lib\\site-packages\\google\\auth\\_default.py:76: UserWarning: Your application has authenticated using end user credentials from Google Cloud SDK without a quota project. You might receive a \"quota exceeded\" or \"API not enabled\" error. See the following page for troubleshooting: https://cloud.google.com/docs/authentication/adc-troubleshooting/user-creds. \n",
      "  warnings.warn(_CLOUD_SDK_CREDENTIALS_WARNING)\n"
     ]
    },
    {
     "name": "stdout",
     "output_type": "stream",
     "text": [
      "Successfully backed up table {full_table_name} to {gcs_uri}\n",
      "Successfully backed up table {full_table_name} to {gcs_uri}\n",
      "Successfully backed up table {full_table_name} to {gcs_uri}\n",
      "Successfully backed up table {full_table_name} to {gcs_uri}\n",
      "Successfully backed up table {full_table_name} to {gcs_uri}\n",
      "Successfully backed up table {full_table_name} to {gcs_uri}\n",
      "Skipping curated_google_scholar.ai_keyword_list as it is a EXTERNAL, not a standard TABLE.\n",
      "Successfully backed up table {full_table_name} to {gcs_uri}\n",
      "Skipping curated_google_scholar.authors_blacklist as it is a EXTERNAL, not a standard TABLE.\n",
      "Skipping curated_google_scholar.authors_whitelist as it is a EXTERNAL, not a standard TABLE.\n",
      "Successfully backed up table {full_table_name} to {gcs_uri}\n",
      "Successfully backed up table {full_table_name} to {gcs_uri}\n",
      "Skipping curated_google_scholar.company_affiliations_lookup as it is a EXTERNAL, not a standard TABLE.\n",
      "Successfully backed up table {full_table_name} to {gcs_uri}\n",
      "Successfully backed up table {full_table_name} to {gcs_uri}\n"
     ]
    },
    {
     "ename": "KeyboardInterrupt",
     "evalue": "",
     "output_type": "error",
     "traceback": [
      "\u001b[1;31m---------------------------------------------------------------------------\u001b[0m",
      "\u001b[1;31m_OperationNotComplete\u001b[0m                     Traceback (most recent call last)",
      "File \u001b[1;32mc:\\Users\\lucas\\anaconda3\\Lib\\site-packages\\google\\api_core\\retry\\retry_unary.py:147\u001b[0m, in \u001b[0;36mretry_target\u001b[1;34m(target, predicate, sleep_generator, timeout, on_error, exception_factory, **kwargs)\u001b[0m\n\u001b[0;32m    146\u001b[0m \u001b[38;5;28;01mtry\u001b[39;00m:\n\u001b[1;32m--> 147\u001b[0m     result \u001b[38;5;241m=\u001b[39m target()\n\u001b[0;32m    148\u001b[0m     \u001b[38;5;28;01mif\u001b[39;00m inspect\u001b[38;5;241m.\u001b[39misawaitable(result):\n",
      "File \u001b[1;32mc:\\Users\\lucas\\anaconda3\\Lib\\site-packages\\google\\api_core\\future\\polling.py:120\u001b[0m, in \u001b[0;36mPollingFuture._done_or_raise\u001b[1;34m(self, retry)\u001b[0m\n\u001b[0;32m    119\u001b[0m \u001b[38;5;28;01mif\u001b[39;00m \u001b[38;5;129;01mnot\u001b[39;00m \u001b[38;5;28mself\u001b[39m\u001b[38;5;241m.\u001b[39mdone(retry\u001b[38;5;241m=\u001b[39mretry):\n\u001b[1;32m--> 120\u001b[0m     \u001b[38;5;28;01mraise\u001b[39;00m _OperationNotComplete()\n",
      "\u001b[1;31m_OperationNotComplete\u001b[0m: ",
      "\nDuring handling of the above exception, another exception occurred:\n",
      "\u001b[1;31mKeyboardInterrupt\u001b[0m                         Traceback (most recent call last)",
      "Cell \u001b[1;32mIn[12], line 38\u001b[0m\n\u001b[0;32m     31\u001b[0m gcs_uri \u001b[38;5;241m=\u001b[39m \u001b[38;5;124mf\u001b[39m\u001b[38;5;124m\"\u001b[39m\u001b[38;5;124mgs://\u001b[39m\u001b[38;5;132;01m{\u001b[39;00mbackup_project\u001b[38;5;132;01m}\u001b[39;00m\u001b[38;5;124m/\u001b[39m\u001b[38;5;132;01m{\u001b[39;00mbackup_bucket\u001b[38;5;132;01m}\u001b[39;00m\u001b[38;5;124m/\u001b[39m\u001b[38;5;132;01m{\u001b[39;00mdataset\u001b[38;5;241m.\u001b[39mdataset_id\u001b[38;5;132;01m}\u001b[39;00m\u001b[38;5;124m/\u001b[39m\u001b[38;5;132;01m{\u001b[39;00mtable\u001b[38;5;241m.\u001b[39mtable_id\u001b[38;5;132;01m}\u001b[39;00m\u001b[38;5;124m-*.avro\u001b[39m\u001b[38;5;124m\"\u001b[39m\n\u001b[0;32m     33\u001b[0m extract_job \u001b[38;5;241m=\u001b[39m bq_client\u001b[38;5;241m.\u001b[39mextract_table(\n\u001b[0;32m     34\u001b[0m table,\n\u001b[0;32m     35\u001b[0m gcs_uri,\n\u001b[0;32m     36\u001b[0m job_config\u001b[38;5;241m=\u001b[39mjob_config)\n\u001b[1;32m---> 38\u001b[0m extract_job\u001b[38;5;241m.\u001b[39mresult()\n\u001b[0;32m     40\u001b[0m \u001b[38;5;28;01mif\u001b[39;00m extract_job\u001b[38;5;241m.\u001b[39mstate \u001b[38;5;241m==\u001b[39m \u001b[38;5;124m\"\u001b[39m\u001b[38;5;124mDONE\u001b[39m\u001b[38;5;124m\"\u001b[39m:\n\u001b[0;32m     41\u001b[0m     \u001b[38;5;28;01mif\u001b[39;00m extract_job\u001b[38;5;241m.\u001b[39merrors:\n",
      "File \u001b[1;32mc:\\Users\\lucas\\anaconda3\\Lib\\site-packages\\google\\cloud\\bigquery\\job\\base.py:1001\u001b[0m, in \u001b[0;36m_AsyncJob.result\u001b[1;34m(self, retry, timeout)\u001b[0m\n\u001b[0;32m    998\u001b[0m     \u001b[38;5;28mself\u001b[39m\u001b[38;5;241m.\u001b[39m_begin(retry\u001b[38;5;241m=\u001b[39mretry, timeout\u001b[38;5;241m=\u001b[39mtimeout)\n\u001b[0;32m   1000\u001b[0m kwargs \u001b[38;5;241m=\u001b[39m {} \u001b[38;5;28;01mif\u001b[39;00m retry \u001b[38;5;129;01mis\u001b[39;00m DEFAULT_RETRY \u001b[38;5;28;01melse\u001b[39;00m {\u001b[38;5;124m\"\u001b[39m\u001b[38;5;124mretry\u001b[39m\u001b[38;5;124m\"\u001b[39m: retry}\n\u001b[1;32m-> 1001\u001b[0m \u001b[38;5;28;01mreturn\u001b[39;00m \u001b[38;5;28msuper\u001b[39m(_AsyncJob, \u001b[38;5;28mself\u001b[39m)\u001b[38;5;241m.\u001b[39mresult(timeout\u001b[38;5;241m=\u001b[39mtimeout, \u001b[38;5;241m*\u001b[39m\u001b[38;5;241m*\u001b[39mkwargs)\n",
      "File \u001b[1;32mc:\\Users\\lucas\\anaconda3\\Lib\\site-packages\\google\\api_core\\future\\polling.py:256\u001b[0m, in \u001b[0;36mPollingFuture.result\u001b[1;34m(self, timeout, retry, polling)\u001b[0m\n\u001b[0;32m    144\u001b[0m \u001b[38;5;28;01mdef\u001b[39;00m\u001b[38;5;250m \u001b[39m\u001b[38;5;21mresult\u001b[39m(\u001b[38;5;28mself\u001b[39m, timeout\u001b[38;5;241m=\u001b[39m_DEFAULT_VALUE, retry\u001b[38;5;241m=\u001b[39m\u001b[38;5;28;01mNone\u001b[39;00m, polling\u001b[38;5;241m=\u001b[39m\u001b[38;5;28;01mNone\u001b[39;00m):\n\u001b[0;32m    145\u001b[0m \u001b[38;5;250m    \u001b[39m\u001b[38;5;124;03m\"\"\"Get the result of the operation.\u001b[39;00m\n\u001b[0;32m    146\u001b[0m \n\u001b[0;32m    147\u001b[0m \u001b[38;5;124;03m    This method will poll for operation status periodically, blocking if\u001b[39;00m\n\u001b[1;32m   (...)\u001b[0m\n\u001b[0;32m    253\u001b[0m \u001b[38;5;124;03m            the timeout is reached before the operation completes.\u001b[39;00m\n\u001b[0;32m    254\u001b[0m \u001b[38;5;124;03m    \"\"\"\u001b[39;00m\n\u001b[1;32m--> 256\u001b[0m     \u001b[38;5;28mself\u001b[39m\u001b[38;5;241m.\u001b[39m_blocking_poll(timeout\u001b[38;5;241m=\u001b[39mtimeout, retry\u001b[38;5;241m=\u001b[39mretry, polling\u001b[38;5;241m=\u001b[39mpolling)\n\u001b[0;32m    258\u001b[0m     \u001b[38;5;28;01mif\u001b[39;00m \u001b[38;5;28mself\u001b[39m\u001b[38;5;241m.\u001b[39m_exception \u001b[38;5;129;01mis\u001b[39;00m \u001b[38;5;129;01mnot\u001b[39;00m \u001b[38;5;28;01mNone\u001b[39;00m:\n\u001b[0;32m    259\u001b[0m         \u001b[38;5;66;03m# pylint: disable=raising-bad-type\u001b[39;00m\n\u001b[0;32m    260\u001b[0m         \u001b[38;5;66;03m# Pylint doesn't recognize that this is valid in this case.\u001b[39;00m\n\u001b[0;32m    261\u001b[0m         \u001b[38;5;28;01mraise\u001b[39;00m \u001b[38;5;28mself\u001b[39m\u001b[38;5;241m.\u001b[39m_exception\n",
      "File \u001b[1;32mc:\\Users\\lucas\\anaconda3\\Lib\\site-packages\\google\\api_core\\future\\polling.py:137\u001b[0m, in \u001b[0;36mPollingFuture._blocking_poll\u001b[1;34m(self, timeout, retry, polling)\u001b[0m\n\u001b[0;32m    134\u001b[0m     polling \u001b[38;5;241m=\u001b[39m polling\u001b[38;5;241m.\u001b[39mwith_timeout(timeout)\n\u001b[0;32m    136\u001b[0m \u001b[38;5;28;01mtry\u001b[39;00m:\n\u001b[1;32m--> 137\u001b[0m     polling(\u001b[38;5;28mself\u001b[39m\u001b[38;5;241m.\u001b[39m_done_or_raise)(retry\u001b[38;5;241m=\u001b[39mretry)\n\u001b[0;32m    138\u001b[0m \u001b[38;5;28;01mexcept\u001b[39;00m exceptions\u001b[38;5;241m.\u001b[39mRetryError:\n\u001b[0;32m    139\u001b[0m     \u001b[38;5;28;01mraise\u001b[39;00m concurrent\u001b[38;5;241m.\u001b[39mfutures\u001b[38;5;241m.\u001b[39mTimeoutError(\n\u001b[0;32m    140\u001b[0m         \u001b[38;5;124mf\u001b[39m\u001b[38;5;124m\"\u001b[39m\u001b[38;5;124mOperation did not complete within the designated timeout of \u001b[39m\u001b[38;5;124m\"\u001b[39m\n\u001b[0;32m    141\u001b[0m         \u001b[38;5;124mf\u001b[39m\u001b[38;5;124m\"\u001b[39m\u001b[38;5;132;01m{\u001b[39;00mpolling\u001b[38;5;241m.\u001b[39mtimeout\u001b[38;5;132;01m}\u001b[39;00m\u001b[38;5;124m seconds.\u001b[39m\u001b[38;5;124m\"\u001b[39m\n\u001b[0;32m    142\u001b[0m     )\n",
      "File \u001b[1;32mc:\\Users\\lucas\\anaconda3\\Lib\\site-packages\\google\\api_core\\retry\\retry_unary.py:294\u001b[0m, in \u001b[0;36mRetry.__call__.<locals>.retry_wrapped_func\u001b[1;34m(*args, **kwargs)\u001b[0m\n\u001b[0;32m    290\u001b[0m target \u001b[38;5;241m=\u001b[39m functools\u001b[38;5;241m.\u001b[39mpartial(func, \u001b[38;5;241m*\u001b[39margs, \u001b[38;5;241m*\u001b[39m\u001b[38;5;241m*\u001b[39mkwargs)\n\u001b[0;32m    291\u001b[0m sleep_generator \u001b[38;5;241m=\u001b[39m exponential_sleep_generator(\n\u001b[0;32m    292\u001b[0m     \u001b[38;5;28mself\u001b[39m\u001b[38;5;241m.\u001b[39m_initial, \u001b[38;5;28mself\u001b[39m\u001b[38;5;241m.\u001b[39m_maximum, multiplier\u001b[38;5;241m=\u001b[39m\u001b[38;5;28mself\u001b[39m\u001b[38;5;241m.\u001b[39m_multiplier\n\u001b[0;32m    293\u001b[0m )\n\u001b[1;32m--> 294\u001b[0m \u001b[38;5;28;01mreturn\u001b[39;00m retry_target(\n\u001b[0;32m    295\u001b[0m     target,\n\u001b[0;32m    296\u001b[0m     \u001b[38;5;28mself\u001b[39m\u001b[38;5;241m.\u001b[39m_predicate,\n\u001b[0;32m    297\u001b[0m     sleep_generator,\n\u001b[0;32m    298\u001b[0m     timeout\u001b[38;5;241m=\u001b[39m\u001b[38;5;28mself\u001b[39m\u001b[38;5;241m.\u001b[39m_timeout,\n\u001b[0;32m    299\u001b[0m     on_error\u001b[38;5;241m=\u001b[39mon_error,\n\u001b[0;32m    300\u001b[0m )\n",
      "File \u001b[1;32mc:\\Users\\lucas\\anaconda3\\Lib\\site-packages\\google\\api_core\\retry\\retry_unary.py:167\u001b[0m, in \u001b[0;36mretry_target\u001b[1;34m(target, predicate, sleep_generator, timeout, on_error, exception_factory, **kwargs)\u001b[0m\n\u001b[0;32m    156\u001b[0m next_sleep \u001b[38;5;241m=\u001b[39m _retry_error_helper(\n\u001b[0;32m    157\u001b[0m     exc,\n\u001b[0;32m    158\u001b[0m     deadline,\n\u001b[1;32m   (...)\u001b[0m\n\u001b[0;32m    164\u001b[0m     timeout,\n\u001b[0;32m    165\u001b[0m )\n\u001b[0;32m    166\u001b[0m \u001b[38;5;66;03m# if exception not raised, sleep before next attempt\u001b[39;00m\n\u001b[1;32m--> 167\u001b[0m time\u001b[38;5;241m.\u001b[39msleep(next_sleep)\n",
      "\u001b[1;31mKeyboardInterrupt\u001b[0m: "
     ]
    }
   ],
   "source": [
    "bq_project = \"evident-data-dev\"\n",
    "\n",
    "backup_project = \"evident-data-dev-backups\"\n",
    "backup_bucket = \"lucas-test-exports\"\n",
    "\n",
    "full_table_name = \"N/A\"\n",
    "\n",
    "try:\n",
    "\n",
    "    bq_client = bigquery.Client(project=bq_project)\n",
    "    datasets = bq_client.list_datasets()\n",
    "\n",
    "    job_config = bigquery.ExtractJobConfig()\n",
    "    job_config.destination_format = bigquery.DestinationFormat.AVRO\n",
    "    job_config.use_avro_logical_types = True\n",
    "\n",
    "    for dataset in datasets: \n",
    "\n",
    "        tables = bq_client.list_tables(dataset.dataset_id)\n",
    "        for table in tables:\n",
    "\n",
    "            full_table_name = f\"{dataset.dataset_id}.{table.table_id}\"\n",
    "\n",
    "            if table.table_type != \"TABLE\":\n",
    "                print(f\"Skipping {full_table_name} as it is a {table.table_type}, not a standard TABLE.\")\n",
    "                continue\n",
    "\n",
    "            gcs_uri = f\"gs://{backup_project}/{backup_bucket}/{dataset.dataset_id}/{table.table_id}-*.avro\"\n",
    "            \n",
    "            extract_job = bq_client.extract_table(\n",
    "            table,\n",
    "            gcs_uri,\n",
    "            job_config=job_config)\n",
    "\n",
    "            extract_job.result()\n",
    "\n",
    "            if extract_job.state == \"DONE\":\n",
    "                if extract_job.errors:\n",
    "                    error_msg = f\"Extract job completed with errors: {extract_job.errors}\"\n",
    "                    print(error_msg)\n",
    "                else:\n",
    "                    print(f\"Successfully backed up table {full_table_name} to {gcs_uri}\")\n",
    "\n",
    "            else:\n",
    "                error_msg = f\"Extract job in unexpected state: {extract_job.state}\"\n",
    "                print(error_msg)\n",
    "   \n",
    "\n",
    "except Exception as e:\n",
    "        error_msg = f\"Error backing up table {full_table_name}: {str(e)}\"\n",
    "        print(error_msg)\n",
    "\n",
    "\n"
   ]
  }
 ],
 "metadata": {
  "kernelspec": {
   "display_name": "base",
   "language": "python",
   "name": "python3"
  },
  "language_info": {
   "codemirror_mode": {
    "name": "ipython",
    "version": 3
   },
   "file_extension": ".py",
   "mimetype": "text/x-python",
   "name": "python",
   "nbconvert_exporter": "python",
   "pygments_lexer": "ipython3",
   "version": "3.13.5"
  }
 },
 "nbformat": 4,
 "nbformat_minor": 5
}
