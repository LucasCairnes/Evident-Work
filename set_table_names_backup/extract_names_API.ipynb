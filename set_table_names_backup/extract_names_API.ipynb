{
 "cells": [
  {
   "cell_type": "code",
   "execution_count": 6,
   "id": "7556257d-72c5-4d59-9e06-99377e84a573",
   "metadata": {},
   "outputs": [],
   "source": [
    "from google.cloud import bigquery, storage"
   ]
  },
  {
   "cell_type": "code",
   "execution_count": 7,
   "id": "7b2a19a0-0efb-4751-8849-218dbd98555d",
   "metadata": {},
   "outputs": [
    {
     "name": "stdout",
     "output_type": "stream",
     "text": [
      "An unexpected error occurred: 403 Access Denied: Dataset evident-data-dev:temporary: Permission bigquery.tables.create denied on dataset evident-data-dev:temporary (or it may not exist).; reason: accessDenied, message: Access Denied: Dataset evident-data-dev:temporary: Permission bigquery.tables.create denied on dataset evident-data-dev:temporary (or it may not exist).\n",
      "\n",
      "Location: europe-west2\n",
      "Job ID: 8ddf09d4-a2c5-4294-9b94-050feffc163c\n",
      "\n"
     ]
    }
   ],
   "source": [
    "from google.cloud import bigquery\n",
    "\n",
    "source_project = \"evident-data-dev\"\n",
    "temp_dataset_name = \"temporary\" \n",
    "destination_bucket = \"lucas-test-exports\"\n",
    "\n",
    "try:\n",
    "    bq_client = bigquery.Client(project=source_project)\n",
    "    \n",
    "    temp_table = f\"{source_project}.{temp_dataset_name}.set_table_names\"\n",
    "    destination_uri = f\"gs://{destination_bucket}/table_set_names*.avro\"\n",
    "    \n",
    "    query = '''\n",
    "        SELECT\n",
    "        table_schema AS dataset,\n",
    "        table_name\n",
    "        FROM\n",
    "          `region-europe-west2`.INFORMATION_SCHEMA.TABLES\n",
    "          '''\n",
    "    \n",
    "    temp_config = bigquery.QueryJobConfig(\n",
    "        destination=temp_table,\n",
    "        write_disposition=\"WRITE_TRUNCATE\"\n",
    "    )\n",
    "\n",
    "    temp_job = bq_client.query(query, job_config=temp_config)\n",
    "    temp_job.result()\n",
    "\n",
    "    extract_config = bigquery.ExtractJobConfig()\n",
    "    extract_config.destination_format = bigquery.DestinationFormat.AVRO\n",
    "\n",
    "    extract_job = bq_client.extract_table(\n",
    "        temp_table,\n",
    "        destination_uri,\n",
    "        job_config=extract_config,\n",
    "    )\n",
    "    \n",
    "    extract_job.result() \n",
    "\n",
    "    print(\"extraction complete\")\n",
    "\n",
    "except Exception as e:\n",
    "    print(f\"An unexpected error occurred: {e}\")"
   ]
  },
  {
   "cell_type": "code",
   "execution_count": null,
   "id": "a17f5c7d-8beb-4fb6-98e5-7be134e46347",
   "metadata": {},
   "outputs": [],
   "source": []
  }
 ],
 "metadata": {
  "kernelspec": {
   "display_name": "Python 3 (ipykernel)",
   "language": "python",
   "name": "python3"
  },
  "language_info": {
   "codemirror_mode": {
    "name": "ipython",
    "version": 3
   },
   "file_extension": ".py",
   "mimetype": "text/x-python",
   "name": "python",
   "nbconvert_exporter": "python",
   "pygments_lexer": "ipython3",
   "version": "3.13.5"
  }
 },
 "nbformat": 4,
 "nbformat_minor": 5
}
