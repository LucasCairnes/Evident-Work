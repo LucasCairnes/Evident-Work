{
 "cells": [
  {
   "cell_type": "code",
   "execution_count": 14,
   "id": "7556257d-72c5-4d59-9e06-99377e84a573",
   "metadata": {},
   "outputs": [],
   "source": [
    "from google.cloud import bigquery, storage\n",
    "import fastavro\n"
   ]
  },
  {
   "cell_type": "code",
   "execution_count": 15,
   "id": "7b2a19a0-0efb-4751-8849-218dbd98555d",
   "metadata": {},
   "outputs": [],
   "source": [
    "bq_project = \"evident-data-dev\"\n",
    "\n",
    "backup_project = \"evident-data-dev-backups\"\n",
    "backup_bucket = \"lucas-test-exports\"\n",
    "\n",
    "full_table_name = \"N/A\"\n",
    "\n",
    "try:\n",
    "\n",
    "    bq_client = bigquery.Client(project=bq_project)\n",
    "    datasets = bq_client.list_datasets()\n",
    "\n",
    "    job_config = bigquery.ExtractJobConfig()\n",
    "    job_config.destination_format = bigquery.DestinationFormat.AVRO\n",
    "    job_config.use_avro_logical_types = True\n",
    "\n",
    "    for dataset in datasets: \n",
    "\n",
    "        tables = bq_client.list_tables(dataset.dataset_id)\n",
    "        for table in tables:\n",
    "\n",
    "            full_table_name = f\"{dataset.dataset_id}.{table.table_id}\"\n",
    "            gcs_uri = f\"gs://{backup_bucket}/{backup_project}/{dataset.dataset_id}/{table.table_id}-*.avro\"\n",
    "            \n",
    "            extract_job = bq_client.extract_table(\n",
    "            table,\n",
    "            gcs_uri,\n",
    "            job_config=job_config\n",
    "        )   \n",
    "\n",
    "except Exception as e:\n",
    "    error_msg = f\"Error backing up table {full_table_name}: {str(e)}\"\n",
    "\n",
    "\n"
   ]
  },
  {
   "cell_type": "code",
   "execution_count": null,
   "id": "108938a0",
   "metadata": {},
   "outputs": [],
   "source": []
  },
  {
   "cell_type": "code",
   "execution_count": null,
   "id": "a17f5c7d-8beb-4fb6-98e5-7be134e46347",
   "metadata": {},
   "outputs": [],
   "source": []
  }
 ],
 "metadata": {
  "kernelspec": {
   "display_name": "base",
   "language": "python",
   "name": "python3"
  },
  "language_info": {
   "codemirror_mode": {
    "name": "ipython",
    "version": 3
   },
   "file_extension": ".py",
   "mimetype": "text/x-python",
   "name": "python",
   "nbconvert_exporter": "python",
   "pygments_lexer": "ipython3",
   "version": "3.13.5"
  }
 },
 "nbformat": 4,
 "nbformat_minor": 5
}
